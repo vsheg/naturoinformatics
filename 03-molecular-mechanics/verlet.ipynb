{
 "cells": [
  {
   "cell_type": "code",
   "execution_count": 39,
   "metadata": {},
   "outputs": [],
   "source": [
    "import pandas as pd\n",
    "from math import log10"
   ]
  },
  {
   "cell_type": "code",
   "execution_count": 21,
   "metadata": {},
   "outputs": [],
   "source": [
    "df = pd.DataFrame([*range(5+1), 10, 100, 128, 256], columns=['10ичное'])"
   ]
  },
  {
   "cell_type": "code",
   "execution_count": 24,
   "metadata": {},
   "outputs": [
    {
     "data": {
      "text/html": [
       "<div>\n",
       "<style scoped>\n",
       "    .dataframe tbody tr th:only-of-type {\n",
       "        vertical-align: middle;\n",
       "    }\n",
       "\n",
       "    .dataframe tbody tr th {\n",
       "        vertical-align: top;\n",
       "    }\n",
       "\n",
       "    .dataframe thead th {\n",
       "        text-align: right;\n",
       "    }\n",
       "</style>\n",
       "<table border=\"1\" class=\"dataframe\">\n",
       "  <thead>\n",
       "    <tr style=\"text-align: right;\">\n",
       "      <th></th>\n",
       "      <th>0</th>\n",
       "      <th>1</th>\n",
       "      <th>2</th>\n",
       "      <th>3</th>\n",
       "      <th>4</th>\n",
       "      <th>5</th>\n",
       "      <th>6</th>\n",
       "      <th>7</th>\n",
       "      <th>8</th>\n",
       "      <th>9</th>\n",
       "    </tr>\n",
       "  </thead>\n",
       "  <tbody>\n",
       "    <tr>\n",
       "      <th>10ичное</th>\n",
       "      <td>0</td>\n",
       "      <td>1</td>\n",
       "      <td>2</td>\n",
       "      <td>3</td>\n",
       "      <td>4</td>\n",
       "      <td>5</td>\n",
       "      <td>10</td>\n",
       "      <td>100</td>\n",
       "      <td>128</td>\n",
       "      <td>256</td>\n",
       "    </tr>\n",
       "    <tr>\n",
       "      <th>2ичное</th>\n",
       "      <td>0</td>\n",
       "      <td>1</td>\n",
       "      <td>10</td>\n",
       "      <td>11</td>\n",
       "      <td>100</td>\n",
       "      <td>101</td>\n",
       "      <td>1010</td>\n",
       "      <td>1100100</td>\n",
       "      <td>10000000</td>\n",
       "      <td>100000000</td>\n",
       "    </tr>\n",
       "  </tbody>\n",
       "</table>\n",
       "</div>"
      ],
      "text/plain": [
       "         0  1   2   3    4    5     6        7         8          9\n",
       "10ичное  0  1   2   3    4    5    10      100       128        256\n",
       "2ичное   0  1  10  11  100  101  1010  1100100  10000000  100000000"
      ]
     },
     "execution_count": 24,
     "metadata": {},
     "output_type": "execute_result"
    }
   ],
   "source": [
    "df['2ичное'] = df['10ичное'].apply(lambda n: bin(n)[2:])\n",
    "df.T"
   ]
  },
  {
   "cell_type": "code",
   "execution_count": 28,
   "metadata": {},
   "outputs": [
    {
     "data": {
      "text/plain": [
       "'0b110111'"
      ]
     },
     "execution_count": 28,
     "metadata": {},
     "output_type": "execute_result"
    }
   ],
   "source": [
    "bin(55)"
   ]
  },
  {
   "cell_type": "code",
   "execution_count": 53,
   "metadata": {},
   "outputs": [],
   "source": [
    "df = pd.DataFrame(\n",
    "    [\n",
    "        (n, f'{0}--{sci_form(2**n)}', f'{sci_form(-2**(n//2))}--{sci_form(2**(n//2)-1)}')\n",
    "        for n in [8, 16, 32, 64]\n",
    "    ],\n",
    "    columns=['разрадность', 'беззнаковый', 'знаковый']\n",
    ")\n"
   ]
  },
  {
   "cell_type": "code",
   "execution_count": 54,
   "metadata": {},
   "outputs": [
    {
     "data": {
      "text/html": [
       "<div>\n",
       "<style scoped>\n",
       "    .dataframe tbody tr th:only-of-type {\n",
       "        vertical-align: middle;\n",
       "    }\n",
       "\n",
       "    .dataframe tbody tr th {\n",
       "        vertical-align: top;\n",
       "    }\n",
       "\n",
       "    .dataframe thead th {\n",
       "        text-align: right;\n",
       "    }\n",
       "</style>\n",
       "<table border=\"1\" class=\"dataframe\">\n",
       "  <thead>\n",
       "    <tr style=\"text-align: right;\">\n",
       "      <th></th>\n",
       "      <th>разрадность</th>\n",
       "      <th>беззнаковый</th>\n",
       "      <th>знаковый</th>\n",
       "    </tr>\n",
       "  </thead>\n",
       "  <tbody>\n",
       "    <tr>\n",
       "      <th>0</th>\n",
       "      <td>8</td>\n",
       "      <td>0--2.56 \\cdot 10^{2}</td>\n",
       "      <td>-1.6 \\cdot 10^{1}--1.5 \\cdot 10^{1}</td>\n",
       "    </tr>\n",
       "    <tr>\n",
       "      <th>1</th>\n",
       "      <td>16</td>\n",
       "      <td>0--6.5536 \\cdot 10^{4}</td>\n",
       "      <td>-2.56 \\cdot 10^{2}--2.55 \\cdot 10^{2}</td>\n",
       "    </tr>\n",
       "    <tr>\n",
       "      <th>2</th>\n",
       "      <td>32</td>\n",
       "      <td>0--4.294967296 \\cdot 10^{9}</td>\n",
       "      <td>-6.5536 \\cdot 10^{4}--6.5535 \\cdot 10^{4}</td>\n",
       "    </tr>\n",
       "    <tr>\n",
       "      <th>3</th>\n",
       "      <td>64</td>\n",
       "      <td>0--1.8446744073709551 \\cdot 10^{19}</td>\n",
       "      <td>-4.294967296 \\cdot 10^{9}--4.294967295 \\cdot 1...</td>\n",
       "    </tr>\n",
       "  </tbody>\n",
       "</table>\n",
       "</div>"
      ],
      "text/plain": [
       "   разрадность                          беззнаковый  \\\n",
       "0            8                 0--2.56 \\cdot 10^{2}   \n",
       "1           16               0--6.5536 \\cdot 10^{4}   \n",
       "2           32          0--4.294967296 \\cdot 10^{9}   \n",
       "3           64  0--1.8446744073709551 \\cdot 10^{19}   \n",
       "\n",
       "                                            знаковый  \n",
       "0                -1.6 \\cdot 10^{1}--1.5 \\cdot 10^{1}  \n",
       "1              -2.56 \\cdot 10^{2}--2.55 \\cdot 10^{2}  \n",
       "2          -6.5536 \\cdot 10^{4}--6.5535 \\cdot 10^{4}  \n",
       "3  -4.294967296 \\cdot 10^{9}--4.294967295 \\cdot 1...  "
      ]
     },
     "execution_count": 54,
     "metadata": {},
     "output_type": "execute_result"
    }
   ],
   "source": [
    "df"
   ]
  },
  {
   "cell_type": "code",
   "execution_count": 48,
   "metadata": {},
   "outputs": [],
   "source": [
    "def sci_form(x):\n",
    "    sign = 1 if x >= 0 else -1\n",
    "    x = abs(x)\n",
    "    exp = int(log10(x))\n",
    "    mant = x / (10 ** exp)\n",
    "    return f'{sign * mant} \\cdot 10^{{{exp}}}'"
   ]
  },
  {
   "cell_type": "code",
   "execution_count": 50,
   "metadata": {},
   "outputs": [
    {
     "data": {
      "text/plain": [
       "'-5.05 \\\\cdot 10^{2}'"
      ]
     },
     "execution_count": 50,
     "metadata": {},
     "output_type": "execute_result"
    }
   ],
   "source": [
    "sci_form(-505)"
   ]
  },
  {
   "cell_type": "code",
   "execution_count": 55,
   "metadata": {},
   "outputs": [
    {
     "data": {
      "text/plain": [
       "'\\\\begin{tabular}{lrll}\\n & разрадность & беззнаковый & знаковый \\\\\\\\\\n0 & 8 & 0--2.56 \\\\cdot 10^{2} & -1.6 \\\\cdot 10^{1}--1.5 \\\\cdot 10^{1} \\\\\\\\\\n1 & 16 & 0--6.5536 \\\\cdot 10^{4} & -2.56 \\\\cdot 10^{2}--2.55 \\\\cdot 10^{2} \\\\\\\\\\n2 & 32 & 0--4.294967296 \\\\cdot 10^{9} & -6.5536 \\\\cdot 10^{4}--6.5535 \\\\cdot 10^{4} \\\\\\\\\\n3 & 64 & 0--1.8446744073709551 \\\\cdot 10^{19} & -4.294967296 \\\\cdot 10^{9}--4.294967295 \\\\cdot 10^{9} \\\\\\\\\\n\\\\end{tabular}\\n'"
      ]
     },
     "execution_count": 55,
     "metadata": {},
     "output_type": "execute_result"
    }
   ],
   "source": [
    "df.style.to_latex()"
   ]
  },
  {
   "cell_type": "code",
   "execution_count": 72,
   "metadata": {},
   "outputs": [
    {
     "data": {
      "text/html": [
       "<style type=\"text/css\">\n",
       "</style>\n",
       "<table id=\"T_29a1a\">\n",
       "  <thead>\n",
       "    <tr>\n",
       "      <th id=\"T_29a1a_level0_col0\" class=\"col_heading level0 col0\" >разрадность</th>\n",
       "      <th id=\"T_29a1a_level0_col1\" class=\"col_heading level0 col1\" >беззнаковый</th>\n",
       "      <th id=\"T_29a1a_level0_col2\" class=\"col_heading level0 col2\" >знаковый</th>\n",
       "    </tr>\n",
       "  </thead>\n",
       "  <tbody>\n",
       "    <tr>\n",
       "      <td id=\"T_29a1a_row0_col0\" class=\"data row0 col0\" >8</td>\n",
       "      <td id=\"T_29a1a_row0_col1\" class=\"data row0 col1\" >0--2.56 \\cdot 10^{2}</td>\n",
       "      <td id=\"T_29a1a_row0_col2\" class=\"data row0 col2\" >-1.6 \\cdot 10^{1}--1.5 \\cdot 10^{1}</td>\n",
       "    </tr>\n",
       "    <tr>\n",
       "      <td id=\"T_29a1a_row1_col0\" class=\"data row1 col0\" >16</td>\n",
       "      <td id=\"T_29a1a_row1_col1\" class=\"data row1 col1\" >0--6.5536 \\cdot 10^{4}</td>\n",
       "      <td id=\"T_29a1a_row1_col2\" class=\"data row1 col2\" >-2.56 \\cdot 10^{2}--2.55 \\cdot 10^{2}</td>\n",
       "    </tr>\n",
       "    <tr>\n",
       "      <td id=\"T_29a1a_row2_col0\" class=\"data row2 col0\" >32</td>\n",
       "      <td id=\"T_29a1a_row2_col1\" class=\"data row2 col1\" >0--4.294967296 \\cdot 10^{9}</td>\n",
       "      <td id=\"T_29a1a_row2_col2\" class=\"data row2 col2\" >-6.5536 \\cdot 10^{4}--6.5535 \\cdot 10^{4}</td>\n",
       "    </tr>\n",
       "    <tr>\n",
       "      <td id=\"T_29a1a_row3_col0\" class=\"data row3 col0\" >64</td>\n",
       "      <td id=\"T_29a1a_row3_col1\" class=\"data row3 col1\" >0--1.8446744073709551 \\cdot 10^{19}</td>\n",
       "      <td id=\"T_29a1a_row3_col2\" class=\"data row3 col2\" >-4.294967296 \\cdot 10^{9}--4.294967295 \\cdot 10^{9}</td>\n",
       "    </tr>\n",
       "  </tbody>\n",
       "</table>\n"
      ],
      "text/plain": [
       "<pandas.io.formats.style.Styler at 0x140780700>"
      ]
     },
     "execution_count": 72,
     "metadata": {},
     "output_type": "execute_result"
    }
   ],
   "source": [
    "s = df.style.format('${0}$')\n",
    "df.style.hide(axis='index')\n"
   ]
  },
  {
   "cell_type": "code",
   "execution_count": 78,
   "metadata": {},
   "outputs": [],
   "source": [
    "def style(styler):\n",
    "    return df.style.format('${0}$').hide(axis='index')\n"
   ]
  },
  {
   "cell_type": "code",
   "execution_count": 84,
   "metadata": {},
   "outputs": [
    {
     "ename": "AttributeError",
     "evalue": "'Styler' object has no attribute 'to_md'",
     "output_type": "error",
     "traceback": [
      "\u001b[0;31m---------------------------------------------------------------------------\u001b[0m",
      "\u001b[0;31mAttributeError\u001b[0m                            Traceback (most recent call last)",
      "Cell \u001b[0;32mIn [84], line 1\u001b[0m\n\u001b[0;32m----> 1\u001b[0m style(df)\u001b[39m.\u001b[39;49mto_md()\n",
      "\u001b[0;31mAttributeError\u001b[0m: 'Styler' object has no attribute 'to_md'"
     ]
    }
   ],
   "source": [
    "style(df).to_md()"
   ]
  },
  {
   "cell_type": "code",
   "execution_count": null,
   "metadata": {},
   "outputs": [],
   "source": []
  }
 ],
 "metadata": {
  "kernelspec": {
   "display_name": "Python 3.10.7 ('.venv')",
   "language": "python",
   "name": "python3"
  },
  "language_info": {
   "codemirror_mode": {
    "name": "ipython",
    "version": 3
   },
   "file_extension": ".py",
   "mimetype": "text/x-python",
   "name": "python",
   "nbconvert_exporter": "python",
   "pygments_lexer": "ipython3",
   "version": "3.10.8"
  },
  "orig_nbformat": 4,
  "vscode": {
   "interpreter": {
    "hash": "fa8bd5d19193bee15b300d32ad23107e12b3ac37cbd5a0f25c73901c55906ee2"
   }
  }
 },
 "nbformat": 4,
 "nbformat_minor": 2
}
